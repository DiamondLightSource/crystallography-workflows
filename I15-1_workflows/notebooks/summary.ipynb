{
 "cells": [
  {
   "cell_type": "code",
   "execution_count": null,
   "metadata": {},
   "outputs": [],
   "source": [
    "inpath = \"\""
   ]
  },
  {
   "cell_type": "code",
   "execution_count": null,
   "metadata": {},
   "outputs": [],
   "source": [
    "outpath = \"\""
   ]
  },
  {
   "cell_type": "code",
   "execution_count": null,
   "metadata": {},
   "outputs": [],
   "source": [
    "import h5py\n",
    "import matplotlib.pyplot as plt\n",
    "import numpy as np"
   ]
  },
  {
   "cell_type": "markdown",
   "metadata": {},
   "source": [
    "Processing steps used to generate this file:"
   ]
  },
  {
   "cell_type": "code",
   "execution_count": null,
   "metadata": {},
   "outputs": [],
   "source": [
    "with h5py.File(inpath, \"r\") as fh:\n",
    "    location = \"/processed/process\"\n",
    "    name = \"name\"\n",
    "    if location in fh:\n",
    "        proc = fh[location]\n",
    "        for i in range(len(proc)): \n",
    "            if str(i) in proc: \n",
    "                print(proc[str(i)][name][...]) \n",
    "\n",
    "        "
   ]
  },
  {
   "cell_type": "code",
   "execution_count": null,
   "metadata": {},
   "outputs": [],
   "source": [
    "with h5py.File(inpath, \"r\") as fh:\n",
    "    location = \"/processed/result\"\n",
    "    axes = \"axes\"\n",
    "    signal = \"signal\"\n",
    "    data = fh[location]\n",
    "    h5_signal = data[data.attrs[signal]]\n",
    "    axis_name_array = data.attrs[axes]\n",
    "    axis_array = [data[n] if n is not \".\" else None for n in axis_name_array]\n",
    "    shape = h5_signal.shape\n",
    "    slices = []\n",
    "    for i in range(len(shape)):\n",
    "        slices.append(slice(0,1,1))\n",
    "    slices[-1] = slice(0,shape[-1],1)\n",
    "    \n",
    "    pd = h5_signal[tuple(slices)].squeeze()\n",
    "    x = np.arange(pd.size)\n",
    "    \n",
    "    if axis_name_array[-1] is not \".\":\n",
    "        x = axis_array[-1][...].squeeze()\n",
    "    \n",
    "    plt.figure(figsize=(20, 15), dpi= 80, facecolor='w', edgecolor='k')\n",
    "    plt.plot(x,pd)\n",
    "    plt.xlabel(str(axis_name_array[-1],'utf-8'))\n",
    "    \n",
    "    plt.savefig(\"/tmp/result_image.png\")\n",
    "    "
   ]
  },
  {
   "cell_type": "code",
   "execution_count": null,
   "metadata": {},
   "outputs": [],
   "source": []
  }
 ],
 "metadata": {
  "kernelspec": {
   "display_name": "Python 3 (ipykernel)",
   "language": "python",
   "name": "python3"
  },
  "language_info": {
   "codemirror_mode": {
    "name": "ipython",
    "version": 3
   },
   "file_extension": ".py",
   "mimetype": "text/x-python",
   "name": "python",
   "nbconvert_exporter": "python",
   "pygments_lexer": "ipython3",
   "version": "3.10.12"
  }
 },
 "nbformat": 4,
 "nbformat_minor": 4
}
